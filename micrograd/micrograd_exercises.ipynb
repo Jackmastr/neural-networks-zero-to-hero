{
 "cells": [
  {
   "cell_type": "markdown",
   "metadata": {
    "id": "JnGHatCI51JP"
   },
   "source": [
    "# micrograd exercises\n",
    "\n",
    "1. watch the [micrograd video](https://www.youtube.com/watch?v=VMj-3S1tku0) on YouTube\n",
    "2. come back and complete these exercises to level up :)"
   ]
  },
  {
   "cell_type": "markdown",
   "metadata": {
    "id": "OFt6NKOz6iBZ"
   },
   "source": [
    "## section 1: derivatives"
   ]
  },
  {
   "cell_type": "code",
   "execution_count": 1,
   "metadata": {
    "id": "3Jx9fCXl5xHd"
   },
   "outputs": [
    {
     "name": "stdout",
     "output_type": "stream",
     "text": [
      "6.336362190988558\n"
     ]
    }
   ],
   "source": [
    "# here is a mathematical expression that takes 3 inputs and produces one output\n",
    "from math import sin, cos\n",
    "\n",
    "\n",
    "def f(a, b, c):\n",
    "    return -a**3 + sin(3*b) - 1.0/c + b**2.5 - a**0.5\n",
    "\n",
    "\n",
    "print(f(2, 3, 4))"
   ]
  },
  {
   "cell_type": "markdown",
   "metadata": {},
   "source": [
    "$$f(a,b,c) = -a^3 + \\sin(3b) - \\frac{1}{c} + b^{2.5} - a^{0.5}$$\n",
    "$$\\frac{\\partial f}{\\partial a} = -3a^2 - 0.5 a^{-0.5} $$\n",
    "$$\\frac{\\partial f}{\\partial b} = 3\\cos(3b) + 2.5 b^{1.5}$$\n",
    "$$\\frac{\\partial f}{\\partial c} =  +\\frac{1}{c^2}$$"
   ]
  },
  {
   "cell_type": "code",
   "execution_count": 2,
   "metadata": {
    "id": "qXaH59eL9zxf"
   },
   "outputs": [
    {
     "name": "stdout",
     "output_type": "stream",
     "text": [
      "OK for dim 0: expected -12.353553390593273, yours returns -12.353553390593273\n",
      "OK for dim 1: expected 10.25699027111255, yours returns 10.25699027111255\n",
      "OK for dim 2: expected 0.0625, yours returns 0.0625\n"
     ]
    }
   ],
   "source": [
    "# write the function df that returns the analytical gradient of f\n",
    "# i.e. use your skills from calculus to take the derivative, then implement the formula\n",
    "# if you do not calculus then feel free to ask wolframalpha, e.g.:\n",
    "# https://www.wolframalpha.com/input?i=d%2Fda%28sin%283*a%29%29%29\n",
    "\n",
    "def gradf(a, b, c):\n",
    "    # todo, return [df/da, df/db, df/dc]\n",
    "    return [-3*a**2 - 0.5*a**(-0.5), 3*cos(3*b) + 2.5*b**(1.5), 1/c**2]\n",
    "\n",
    "\n",
    "# expected answer is the list of\n",
    "ans = [-12.353553390593273, 10.25699027111255, 0.0625]\n",
    "yours = gradf(2, 3, 4)\n",
    "for dim in range(3):\n",
    "    ok = 'OK' if abs(yours[dim] - ans[dim]) < 1e-5 else 'WRONG!'\n",
    "    print(\n",
    "        f\"{ok} for dim {dim}: expected {ans[dim]}, yours returns {yours[dim]}\")"
   ]
  },
  {
   "cell_type": "markdown",
   "metadata": {},
   "source": [
    "Using the defnition of the derivative:\n",
    "$$\n",
    "\\frac{\\partial f}{\\partial a} = \\lim_{h\\rightarrow0} \\frac{f(a+h,b,c) - f(a,b,c)}{h}\n",
    "$$"
   ]
  },
  {
   "cell_type": "code",
   "execution_count": 3,
   "metadata": {
    "id": "_27n-KTA9Qla"
   },
   "outputs": [
    {
     "name": "stdout",
     "output_type": "stream",
     "text": [
      "OK for dim 0: expected -12.353553390593273, yours returns -12.353559348809995\n",
      "OK for dim 1: expected 10.25699027111255, yours returns 10.256991666679482\n",
      "OK for dim 2: expected 0.0625, yours returns 0.062499984743169534\n"
     ]
    }
   ],
   "source": [
    "# now estimate the gradient numerically without any calculus, using\n",
    "# the approximation we used in the video.\n",
    "# you should not call the function df from the last cell\n",
    "\n",
    "# -----------\n",
    "h = 1e-6\n",
    "a, b, c = 2, 3, 4\n",
    "f1 = f(a, b, c)\n",
    "numerical_grad = [(f(a+h, b, c)-f1)/h, (f(a, b+h, c)-f1) /\n",
    "                  h, (f(a, b, c+h)-f1)/h]  # TODO\n",
    "# -----------\n",
    "\n",
    "for dim in range(3):\n",
    "    ok = 'OK' if abs(numerical_grad[dim] - ans[dim]) < 1e-5 else 'WRONG!'\n",
    "    print(\n",
    "        f\"{ok} for dim {dim}: expected {ans[dim]}, yours returns {numerical_grad[dim]}\")"
   ]
  },
  {
   "cell_type": "code",
   "execution_count": 4,
   "metadata": {
    "id": "BUqsGb5o_h2P"
   },
   "outputs": [
    {
     "name": "stdout",
     "output_type": "stream",
     "text": [
      "OK for dim 0: expected -12.353553390593273, yours returns -12.353553391353245\n",
      "OK for dim 1: expected 10.25699027111255, yours returns 10.25699027401572\n",
      "OK for dim 2: expected 0.0625, yours returns 0.06250000028629188\n"
     ]
    }
   ],
   "source": [
    "# there is an alternative formula that provides a much better numerical\n",
    "# approximation to the derivative of a function.\n",
    "# learn about it here: https://en.wikipedia.org/wiki/Symmetric_derivative\n",
    "# implement it. confirm that for the same step size h this version gives a\n",
    "# better approximation.\n",
    "\n",
    "# -----------\n",
    "h = 1e-6\n",
    "a, b, c = 2, 3, 4\n",
    "numerical_grad2 = [(f(a+h, b, c)-f(a-h, b, c))/(2*h), (f(a, b+h, c) -\n",
    "                                                       f(a, b-h, c))/(2*h), (f(a, b, c+h)-f(a, b, c-h))/(2*h)]  # TODO\n",
    "# -----------\n",
    "\n",
    "for dim in range(3):\n",
    "    ok = 'OK' if abs(numerical_grad2[dim] - ans[dim]) < 1e-5 else 'WRONG!'\n",
    "    print(\n",
    "        f\"{ok} for dim {dim}: expected {ans[dim]}, yours returns {numerical_grad2[dim]}\")"
   ]
  },
  {
   "cell_type": "markdown",
   "metadata": {
    "id": "tklF9s_4AtlI"
   },
   "source": [
    "## section 2: support for softmax"
   ]
  },
  {
   "cell_type": "code",
   "execution_count": 5,
   "metadata": {
    "id": "nAPe_RVrCTeO"
   },
   "outputs": [],
   "source": [
    "# Value class starter code, with many functions taken out\n",
    "from math import exp, log\n",
    "\n",
    "\n",
    "class Value:\n",
    "\n",
    "    def __init__(self, data, _children=(), _op='', label=''):\n",
    "        self.data = data\n",
    "        self.grad = 0.0\n",
    "        self._backward = lambda: None\n",
    "        self._prev = set(_children)\n",
    "        self._op = _op\n",
    "        self.label = label\n",
    "\n",
    "    def __repr__(self):\n",
    "        return f\"Value(data={self.data})\"\n",
    "\n",
    "    def __add__(self, other):  # exactly as in the video\n",
    "        other = other if isinstance(other, Value) else Value(other)\n",
    "        out = Value(self.data + other.data, (self, other), '+')\n",
    "\n",
    "        def _backward():\n",
    "            self.grad += 1.0 * out.grad\n",
    "            other.grad += 1.0 * out.grad\n",
    "        out._backward = _backward\n",
    "\n",
    "        return out\n",
    "\n",
    "    # ------\n",
    "    # re-implement all the other functions needed for the exercises below\n",
    "    # your code here\n",
    "    # TODO\n",
    "\n",
    "    def exp(self):\n",
    "        out = Value(exp(self.data), (self,), 'e^')\n",
    "\n",
    "        def _backward():\n",
    "            self.grad += out * out.grad\n",
    "\n",
    "        out._backward = _backward\n",
    "        return out\n",
    "\n",
    "    # def __pow__(self, other):\n",
    "    #     # only int or float powers for now for some reason not value\n",
    "    #     assert isinstance(other, (int, float))\n",
    "    #     out = Value(self.data**other, (self,), f'^{other}')\n",
    "\n",
    "    #     def _backward():\n",
    "    #         self.grad += other * self.data ** (other - 1) * out.grad\n",
    "    #     out._backward = _backward\n",
    "    #     return out\n",
    "\n",
    "    # def __truediv__(self, other):\n",
    "    #     return self * other**-1\n",
    "\n",
    "    def __truediv__(self, other):\n",
    "        out = Value(self.data / other.data, (self, other), '/')\n",
    "\n",
    "        def _backward():\n",
    "            self.grad += (1/other.data) * out.grad\n",
    "            other.grad += -(self.data/other.data**2) * out.grad\n",
    "\n",
    "        out._backward = _backward\n",
    "        return out\n",
    "\n",
    "    def __neg__(self):\n",
    "        return -1 * self\n",
    "\n",
    "    def __mul__(self, other):\n",
    "        other = other if isinstance(other, Value) else Value(other)\n",
    "        out = Value(self.data*other.data, (self, other), '*')\n",
    "\n",
    "        def _backward():\n",
    "            self.grad += other.data * out.grad\n",
    "            other.grad += self.data * out.grad\n",
    "\n",
    "        out._backward = _backward\n",
    "        return out\n",
    "\n",
    "    def __rmul__(self, other):\n",
    "        return self * other\n",
    "\n",
    "    def __sub__(self, other):\n",
    "        return self + (-other)\n",
    "\n",
    "    def __abs__(self):\n",
    "        out = Value(abs(self.data), (self,), '||')\n",
    "\n",
    "        def _backward():\n",
    "            if self.data >= 0:\n",
    "                self.grad += out.grad\n",
    "            self.grad += -1 * out.grad\n",
    "\n",
    "        out._backward = _backward\n",
    "        return out\n",
    "\n",
    "    def __lt__(self, other):\n",
    "        other = other if isinstance(other, Value) else Value(other)\n",
    "        return self.data < other.data\n",
    "\n",
    "    def log(self):\n",
    "        out = Value(log(self.data), (self,), 'log')\n",
    "\n",
    "        def _backward():\n",
    "            self.grad += (1/self.data) * out.grad\n",
    "\n",
    "        out._backward = _backward\n",
    "        return out\n",
    "\n",
    "    def __radd__(self, other):\n",
    "        return self + other\n",
    "\n",
    "    # ------\n",
    "\n",
    "    def backward(self):  # exactly as in video\n",
    "        topo = []\n",
    "        visited = set()\n",
    "\n",
    "        def build_topo(v):\n",
    "            if v not in visited:\n",
    "                visited.add(v)\n",
    "                for child in v._prev:\n",
    "                    build_topo(child)\n",
    "                topo.append(v)\n",
    "        build_topo(self)\n",
    "\n",
    "        self.grad = 1.0\n",
    "        for node in reversed(topo):\n",
    "            node._backward()"
   ]
  },
  {
   "cell_type": "markdown",
   "metadata": {},
   "source": [
    "Softmax:\n",
    "$$\n",
    "\\sigma({\\bf a})_i = \\frac{e^{a_i}}{\\sum e^{a_j}}\n",
    "$$\n",
    "Derivative of softmax:\n",
    "$$\n",
    "\\frac{\\partial}{\\partial a_k} \\sigma({\\bf a})_i = \\frac{\\sum e^{a_j} e^{a_i}\\delta_{ik} - e^{a_i} e^{a_k}}{\\left(\\sum e^{a_j}\\right)^2} = \\frac{e^{a_i}}{\\sum e^{a_j}} \\frac{\\sum e^{a_j} \\delta_{ik} - e^{a_k}}{\\sum e^{a_j}} = \\sigma({\\bf a})_i \\left(\\delta_{ik} - \\sigma({\\bf a})_k\\right)\n",
    "$$"
   ]
  },
  {
   "cell_type": "code",
   "execution_count": 6,
   "metadata": {
    "id": "VgWvwVQNAvnI"
   },
   "outputs": [
    {
     "name": "stdout",
     "output_type": "stream",
     "text": [
      "counts [Value(data=1.0), Value(data=20.085536923187668), Value(data=0.1353352832366127), Value(data=2.718281828459045)] [1.0, 20.085536923187668, 0.1353352832366127, 2.718281828459045]\n",
      "denom Value(data=23.939154034883327) 23.939154034883327\n",
      "softmax [Value(data=0.04177257051535045), Value(data=0.839024507462532), Value(data=0.005653302662216329), Value(data=0.11354961935990121)] [0.04177257051535045, 0.839024507462532, 0.005653302662216329, 0.11354961935990121]\n",
      "loss Value(data=2.1755153626167147) 2.1755153626167147\n",
      "2.1755153626167147\n",
      "OK for dim 0: expected 0.041772570515350445, yours returns Value(data=0.041772570515350445)\n",
      "OK for dim 1: expected 0.8390245074625319, yours returns Value(data=0.8390245074625319)\n",
      "OK for dim 2: expected 0.005653302662216329, yours returns Value(data=0.005653302662216329)\n",
      "OK for dim 3: expected -0.8864503806400986, yours returns Value(data=-0.886450380640099)\n"
     ]
    }
   ],
   "source": [
    "# without referencing our code/video __too__ much, make this cell work\n",
    "# you'll have to implement (in some cases re-implemented) a number of functions\n",
    "# of the Value object, similar to what we've seen in the video.\n",
    "# instead of the squared error loss this implements the negative log likelihood\n",
    "# loss, which is very often used in classification.\n",
    "\n",
    "# this is the softmax function\n",
    "# https://en.wikipedia.org/wiki/Softmax_function\n",
    "def softmax(logits):\n",
    "    counts = [logit.exp() for logit in logits]\n",
    "    _test_counts = [exp(logit.data) for logit in logits]\n",
    "    print('counts', counts, _test_counts)\n",
    "    denominator = sum(counts)\n",
    "    _test_denominator = sum(_test_counts)\n",
    "    print('denom', denominator, _test_denominator)\n",
    "    out = [c / denominator for c in counts]\n",
    "    _test_out = [c / _test_denominator for c in _test_counts]\n",
    "    print('softmax', out, _test_out)\n",
    "    return out\n",
    "\n",
    "\n",
    "# this is the negative log likelihood loss function, pervasive in classification\n",
    "logits = [Value(0.0), Value(3.0), Value(-2.0), Value(1.0)]\n",
    "probs = softmax(logits)\n",
    "loss = -probs[3].log()  # dim 3 acts as the label for this input example\n",
    "_test_loss = -log(probs[3].data)\n",
    "print('loss', loss, _test_loss)\n",
    "loss.backward()\n",
    "print(loss.data)\n",
    "\n",
    "ans = [0.041772570515350445, 0.8390245074625319,\n",
    "       0.005653302662216329, -0.8864503806400986]\n",
    "for dim in range(4):\n",
    "    ok = 'OK' if abs(logits[dim].grad - ans[dim]) < 1e-5 else 'WRONG!'\n",
    "    print(\n",
    "        f\"{ok} for dim {dim}: expected {ans[dim]}, yours returns {logits[dim].grad}\")"
   ]
  },
  {
   "cell_type": "code",
   "execution_count": 45,
   "metadata": {
    "id": "q7ca1SVAGG1S"
   },
   "outputs": [
    {
     "name": "stdout",
     "output_type": "stream",
     "text": [
      "tensor([ 0.,  3., -2.,  1.], dtype=torch.float64, requires_grad=True)\n",
      "tensor(2.1755, dtype=torch.float64)\n",
      "tensor([ 0.0418,  0.8390,  0.0057, -0.8865], dtype=torch.float64)\n",
      "my_ans [0.04177257051535046, 0.8390245074625321, 0.00565330266221633, -0.8864503806400987]\n",
      "OK for dim 0: expected 0.041772570515350445, yours returns 0.04177257051535046\n",
      "OK for dim 1: expected 0.8390245074625319, yours returns 0.8390245074625321\n",
      "OK for dim 2: expected 0.005653302662216329, yours returns 0.00565330266221633\n",
      "OK for dim 3: expected -0.8864503806400986, yours returns -0.8864503806400987\n"
     ]
    }
   ],
   "source": [
    "# verify the gradient using the torch library\n",
    "# torch should give you the exact same gradient\n",
    "import torch\n",
    "logits = torch.tensor([0, 3, -2, 1], requires_grad=True, dtype=torch.float64)\n",
    "print(logits)\n",
    "probs = torch.nn.functional.softmax(logits, dim=0)\n",
    "loss = -probs[3].log()\n",
    "loss.backward()\n",
    "print(loss.data)\n",
    "print(logits.grad)\n",
    "\n",
    "ans = [0.041772570515350445, 0.8390245074625319,\n",
    "       0.005653302662216329, -0.8864503806400986]\n",
    "my_ans = logits.grad.tolist()\n",
    "print('my_ans', my_ans)\n",
    "for dim in range(4):\n",
    "    ok = 'OK' if abs(my_ans[dim] - ans[dim]) < 1e-5 else 'WRONG!'\n",
    "    print(\n",
    "        f\"{ok} for dim {dim}: expected {ans[dim]}, yours returns {logits.grad[dim].item()}\")"
   ]
  },
  {
   "cell_type": "code",
   "execution_count": null,
   "metadata": {},
   "outputs": [],
   "source": []
  }
 ],
 "metadata": {
  "colab": {
   "authorship_tag": "ABX9TyOEZED3Xa7xPSARROhfGmw3",
   "collapsed_sections": [],
   "provenance": []
  },
  "kernelspec": {
   "display_name": "base",
   "language": "python",
   "name": "python3"
  },
  "language_info": {
   "codemirror_mode": {
    "name": "ipython",
    "version": 3
   },
   "file_extension": ".py",
   "mimetype": "text/x-python",
   "name": "python",
   "nbconvert_exporter": "python",
   "pygments_lexer": "ipython3",
   "version": "3.11.5"
  }
 },
 "nbformat": 4,
 "nbformat_minor": 0
}
